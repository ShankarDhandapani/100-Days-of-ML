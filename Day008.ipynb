{
 "cells": [
  {
   "cell_type": "markdown",
   "metadata": {},
   "source": [
    "# Working with sqlite3 database"
   ]
  },
  {
   "cell_type": "code",
   "execution_count": 1,
   "metadata": {},
   "outputs": [],
   "source": [
    "import sqlite3"
   ]
  },
  {
   "cell_type": "markdown",
   "metadata": {},
   "source": [
    "### Connecting to database"
   ]
  },
  {
   "cell_type": "code",
   "execution_count": 2,
   "metadata": {},
   "outputs": [],
   "source": [
    "conn = sqlite3.connect(\"files/sampledb.db\")"
   ]
  },
  {
   "cell_type": "code",
   "execution_count": 3,
   "metadata": {},
   "outputs": [],
   "source": [
    "c = conn.cursor()"
   ]
  },
  {
   "cell_type": "markdown",
   "metadata": {},
   "source": [
    "### Creating table in database"
   ]
  },
  {
   "cell_type": "code",
   "execution_count": 4,
   "metadata": {},
   "outputs": [],
   "source": [
    "def create_table():\n",
    "    c.execute(\"CREATE TABLE IF NOT EXISTS table1(unix REAL, datestamp TEXT, keyword TEXT, value REAL)\")"
   ]
  },
  {
   "cell_type": "markdown",
   "metadata": {},
   "source": [
    "### Inserting value into the table"
   ]
  },
  {
   "cell_type": "code",
   "execution_count": 5,
   "metadata": {},
   "outputs": [],
   "source": [
    "def data_entry():\n",
    "    c.execute(\"INSERT INTO table1 VALUES(1452549219,'2016-01-11 13:53:39','Python',6)\")\n",
    "    conn.commit()"
   ]
  },
  {
   "cell_type": "markdown",
   "metadata": {},
   "source": [
    "### Inserting variables to database table"
   ]
  },
  {
   "cell_type": "code",
   "execution_count": 6,
   "metadata": {},
   "outputs": [],
   "source": [
    "import time\n",
    "import datetime\n",
    "import random"
   ]
  },
  {
   "cell_type": "code",
   "execution_count": 7,
   "metadata": {},
   "outputs": [],
   "source": [
    "def dynamic_data_to_database():\n",
    "    unix = time.time()\n",
    "    date = str(datetime.datetime.fromtimestamp(unix).strftime(\"%Y-%m-%d %H:%M:%S\"))\n",
    "    keyword = \"Python\"\n",
    "    value = random.randrange(0,10)\n",
    "    c.execute(\"INSERT INTO table1 (unix, datestamp, keyword, value) VALUES (?, ?, ?, ?)\",(unix, date, keyword, value))\n",
    "    conn.commit()"
   ]
  },
  {
   "cell_type": "code",
   "execution_count": 8,
   "metadata": {},
   "outputs": [],
   "source": [
    "create_table()\n",
    "data_entry()"
   ]
  },
  {
   "cell_type": "code",
   "execution_count": 9,
   "metadata": {},
   "outputs": [],
   "source": [
    "for i in range(10):\n",
    "    dynamic_data_to_database()\n",
    "    time.sleep(1)"
   ]
  },
  {
   "cell_type": "markdown",
   "metadata": {},
   "source": [
    "### Reading data from sqlite3 database table"
   ]
  },
  {
   "cell_type": "code",
   "execution_count": 10,
   "metadata": {},
   "outputs": [],
   "source": [
    "def read_data_from_database_table():\n",
    "    c.execute(\"select * from table1\")\n",
    "    for row in c.fetchall():\n",
    "        print(row)"
   ]
  },
  {
   "cell_type": "code",
   "execution_count": 11,
   "metadata": {},
   "outputs": [
    {
     "name": "stdout",
     "output_type": "stream",
     "text": [
      "(1452549219.0, '2016-01-11 13:53:39', 'Python', 6.0)\n",
      "(1595872757.0680954, '2020-07-27 23:29:17', 'Python', 1.0)\n",
      "(1595872758.328502, '2020-07-27 23:29:18', 'Python', 3.0)\n",
      "(1595872759.4834836, '2020-07-27 23:29:19', 'Python', 4.0)\n",
      "(1595872760.6523373, '2020-07-27 23:29:20', 'Python', 4.0)\n",
      "(1595872761.7979789, '2020-07-27 23:29:21', 'Python', 8.0)\n",
      "(1595872762.9880073, '2020-07-27 23:29:22', 'Python', 6.0)\n",
      "(1595872764.108341, '2020-07-27 23:29:24', 'Python', 7.0)\n",
      "(1595872765.2598064, '2020-07-27 23:29:25', 'Python', 8.0)\n",
      "(1595872766.4036715, '2020-07-27 23:29:26', 'Python', 3.0)\n",
      "(1595872767.54614, '2020-07-27 23:29:27', 'Python', 0.0)\n"
     ]
    }
   ],
   "source": [
    "read_data_from_database_table()"
   ]
  },
  {
   "cell_type": "markdown",
   "metadata": {},
   "source": [
    "### Reading specific data from database table"
   ]
  },
  {
   "cell_type": "code",
   "execution_count": 12,
   "metadata": {},
   "outputs": [],
   "source": [
    "def read_specific_data_from_database_table():\n",
    "    c.execute(\"select * from table1 where value = 3.0\")\n",
    "    for row in c.fetchall():\n",
    "        print(row)"
   ]
  },
  {
   "cell_type": "code",
   "execution_count": 13,
   "metadata": {},
   "outputs": [
    {
     "name": "stdout",
     "output_type": "stream",
     "text": [
      "(1595872758.328502, '2020-07-27 23:29:18', 'Python', 3.0)\n",
      "(1595872766.4036715, '2020-07-27 23:29:26', 'Python', 3.0)\n"
     ]
    }
   ],
   "source": [
    "read_specific_data_from_database_table()"
   ]
  },
  {
   "cell_type": "markdown",
   "metadata": {},
   "source": [
    "## Graph from the database values"
   ]
  },
  {
   "cell_type": "code",
   "execution_count": 14,
   "metadata": {},
   "outputs": [],
   "source": [
    "import matplotlib.pyplot as plt\n",
    "import matplotlib.dates as dts\n",
    "from matplotlib import style"
   ]
  },
  {
   "cell_type": "code",
   "execution_count": 15,
   "metadata": {},
   "outputs": [],
   "source": [
    "style.use(\"fivethirtyeight\")"
   ]
  },
  {
   "cell_type": "code",
   "execution_count": 16,
   "metadata": {},
   "outputs": [],
   "source": [
    "def graph_data():\n",
    "    c.execute(\"select unix, value from table1\")\n",
    "    dates, values = [],[]\n",
    "    for row in c.fetchall():\n",
    "        dates.append(datetime.datetime.fromtimestamp(row[0]))\n",
    "        values.append(row[1])\n",
    "    plt.plot_date(dates,values, \"-\")\n",
    "    plt.show()"
   ]
  },
  {
   "cell_type": "code",
   "execution_count": 17,
   "metadata": {},
   "outputs": [
    {
     "data": {
      "image/png": "[encoded data removed]",
      "text/plain": [
       "<Figure size 432x288 with 1 Axes>"
      ]
     },
     "metadata": {},
     "output_type": "display_data"
    }
   ],
   "source": [
    "graph_data()"
   ]
  },
  {
   "cell_type": "markdown",
   "metadata": {},
   "source": [
    "### Updating the database table"
   ]
  },
  {
   "cell_type": "code",
   "execution_count": 18,
   "metadata": {},
   "outputs": [],
   "source": [
    "def update_table():\n",
    "    c.execute(\"Select * from table1\")\n",
    "    print(\"Before Update : \")\n",
    "    for row in c.fetchall():\n",
    "        print(row)\n",
    "    \n",
    "    c.execute(\"update table1 set value=5.0 where value=2.0\")\n",
    "    conn.commit()\n",
    "    print()\n",
    "    \n",
    "    c.execute(\"Select * from table1\")\n",
    "    print(\"After Update : \")\n",
    "    for row in c.fetchall():\n",
    "        print(row)"
   ]
  },
  {
   "cell_type": "code",
   "execution_count": 19,
   "metadata": {},
   "outputs": [
    {
     "name": "stdout",
     "output_type": "stream",
     "text": [
      "Before Update : \n",
      "(1452549219.0, '2016-01-11 13:53:39', 'Python', 6.0)\n",
      "(1595872757.0680954, '2020-07-27 23:29:17', 'Python', 1.0)\n",
      "(1595872758.328502, '2020-07-27 23:29:18', 'Python', 3.0)\n",
      "(1595872759.4834836, '2020-07-27 23:29:19', 'Python', 4.0)\n",
      "(1595872760.6523373, '2020-07-27 23:29:20', 'Python', 4.0)\n",
      "(1595872761.7979789, '2020-07-27 23:29:21', 'Python', 8.0)\n",
      "(1595872762.9880073, '2020-07-27 23:29:22', 'Python', 6.0)\n",
      "(1595872764.108341, '2020-07-27 23:29:24', 'Python', 7.0)\n",
      "(1595872765.2598064, '2020-07-27 23:29:25', 'Python', 8.0)\n",
      "(1595872766.4036715, '2020-07-27 23:29:26', 'Python', 3.0)\n",
      "(1595872767.54614, '2020-07-27 23:29:27', 'Python', 0.0)\n",
      "\n",
      "After Update : \n",
      "(1452549219.0, '2016-01-11 13:53:39', 'Python', 6.0)\n",
      "(1595872757.0680954, '2020-07-27 23:29:17', 'Python', 1.0)\n",
      "(1595872758.328502, '2020-07-27 23:29:18', 'Python', 3.0)\n",
      "(1595872759.4834836, '2020-07-27 23:29:19', 'Python', 4.0)\n",
      "(1595872760.6523373, '2020-07-27 23:29:20', 'Python', 4.0)\n",
      "(1595872761.7979789, '2020-07-27 23:29:21', 'Python', 8.0)\n",
      "(1595872762.9880073, '2020-07-27 23:29:22', 'Python', 6.0)\n",
      "(1595872764.108341, '2020-07-27 23:29:24', 'Python', 7.0)\n",
      "(1595872765.2598064, '2020-07-27 23:29:25', 'Python', 8.0)\n",
      "(1595872766.4036715, '2020-07-27 23:29:26', 'Python', 3.0)\n",
      "(1595872767.54614, '2020-07-27 23:29:27', 'Python', 0.0)\n"
     ]
    }
   ],
   "source": [
    "update_table()"
   ]
  },
  {
   "cell_type": "markdown",
   "metadata": {},
   "source": [
    "### Deleting data from the database"
   ]
  },
  {
   "cell_type": "code",
   "execution_count": 20,
   "metadata": {},
   "outputs": [],
   "source": [
    "def delete_value_from_the_database():\n",
    "    c.execute(\"Select * from table1\")\n",
    "    print(\"Before Update : \")\n",
    "    for row in c.fetchall():\n",
    "        print(row)\n",
    "    \n",
    "    c.execute(\"delete from table1 where value=5.0\")\n",
    "    conn.commit()\n",
    "    print()\n",
    "    \n",
    "    c.execute(\"Select * from table1\")\n",
    "    print(\"After Update : \")\n",
    "    for row in c.fetchall():\n",
    "        print(row)"
   ]
  },
  {
   "cell_type": "code",
   "execution_count": 21,
   "metadata": {},
   "outputs": [
    {
     "name": "stdout",
     "output_type": "stream",
     "text": [
      "Before Update : \n",
      "(1452549219.0, '2016-01-11 13:53:39', 'Python', 6.0)\n",
      "(1595872757.0680954, '2020-07-27 23:29:17', 'Python', 1.0)\n",
      "(1595872758.328502, '2020-07-27 23:29:18', 'Python', 3.0)\n",
      "(1595872759.4834836, '2020-07-27 23:29:19', 'Python', 4.0)\n",
      "(1595872760.6523373, '2020-07-27 23:29:20', 'Python', 4.0)\n",
      "(1595872761.7979789, '2020-07-27 23:29:21', 'Python', 8.0)\n",
      "(1595872762.9880073, '2020-07-27 23:29:22', 'Python', 6.0)\n",
      "(1595872764.108341, '2020-07-27 23:29:24', 'Python', 7.0)\n",
      "(1595872765.2598064, '2020-07-27 23:29:25', 'Python', 8.0)\n",
      "(1595872766.4036715, '2020-07-27 23:29:26', 'Python', 3.0)\n",
      "(1595872767.54614, '2020-07-27 23:29:27', 'Python', 0.0)\n",
      "\n",
      "After Update : \n",
      "(1452549219.0, '2016-01-11 13:53:39', 'Python', 6.0)\n",
      "(1595872757.0680954, '2020-07-27 23:29:17', 'Python', 1.0)\n",
      "(1595872758.328502, '2020-07-27 23:29:18', 'Python', 3.0)\n",
      "(1595872759.4834836, '2020-07-27 23:29:19', 'Python', 4.0)\n",
      "(1595872760.6523373, '2020-07-27 23:29:20', 'Python', 4.0)\n",
      "(1595872761.7979789, '2020-07-27 23:29:21', 'Python', 8.0)\n",
      "(1595872762.9880073, '2020-07-27 23:29:22', 'Python', 6.0)\n",
      "(1595872764.108341, '2020-07-27 23:29:24', 'Python', 7.0)\n",
      "(1595872765.2598064, '2020-07-27 23:29:25', 'Python', 8.0)\n",
      "(1595872766.4036715, '2020-07-27 23:29:26', 'Python', 3.0)\n",
      "(1595872767.54614, '2020-07-27 23:29:27', 'Python', 0.0)\n"
     ]
    }
   ],
   "source": [
    "delete_value_from_the_database()"
   ]
  },
  {
   "cell_type": "markdown",
   "metadata": {},
   "source": [
    "## Closing the Cursor and the connection"
   ]
  },
  {
   "cell_type": "code",
   "execution_count": 22,
   "metadata": {},
   "outputs": [],
   "source": [
    "c.close()\n",
    "conn.close()"
   ]
  }
 ],
 "metadata": {
  "kernelspec": {
   "display_name": "Python 3",
   "language": "python",
   "name": "python3"
  },
  "language_info": {
   "codemirror_mode": {
    "name": "ipython",
    "version": 3
   },
   "file_extension": ".py",
   "mimetype": "text/x-python",
   "name": "python",
   "nbconvert_exporter": "python",
   "pygments_lexer": "ipython3",
   "version": "3.8.2"
  }
 },
 "nbformat": 4,
 "nbformat_minor": 4
}
