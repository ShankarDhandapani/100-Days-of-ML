{
 "cells": [
  {
   "cell_type": "markdown",
   "metadata": {},
   "source": [
    "# Pygame"
   ]
  },
  {
   "cell_type": "code",
   "execution_count": 1,
   "metadata": {},
   "outputs": [
    {
     "name": "stdout",
     "output_type": "stream",
     "text": [
      "pygame 1.9.6\n",
      "Hello from the pygame community. https://www.pygame.org/contribute.html\n"
     ]
    },
    {
     "data": {
      "text/plain": [
       "(6, 0)"
      ]
     },
     "execution_count": 1,
     "metadata": {},
     "output_type": "execute_result"
    }
   ],
   "source": [
    "import pygame, sys, random\n",
    "pygame.init()"
   ]
  },
  {
   "cell_type": "markdown",
   "metadata": {},
   "source": [
    "### Get window"
   ]
  },
  {
   "cell_type": "code",
   "execution_count": 2,
   "metadata": {},
   "outputs": [],
   "source": [
    "window_size = (1000, 600)\n",
    "window = pygame.display.set_mode(window_size)\n",
    "pygame.display.set_caption(\"Corona Catch\")"
   ]
  },
  {
   "cell_type": "markdown",
   "metadata": {},
   "source": [
    "### Get screen"
   ]
  },
  {
   "cell_type": "code",
   "execution_count": 3,
   "metadata": {},
   "outputs": [],
   "source": [
    "screen_color = (0, 255, 0)\n",
    "screen = pygame.display.get_surface()"
   ]
  },
  {
   "cell_type": "markdown",
   "metadata": {},
   "source": [
    "### Adding Background Music"
   ]
  },
  {
   "cell_type": "code",
   "execution_count": 4,
   "metadata": {},
   "outputs": [],
   "source": [
    "pygame.mixer.music.load(r'Sound\\bg.wav')\n",
    "pygame.mixer.music.play(-1)"
   ]
  },
  {
   "cell_type": "markdown",
   "metadata": {},
   "source": [
    "### Adding Image"
   ]
  },
  {
   "cell_type": "code",
   "execution_count": 5,
   "metadata": {},
   "outputs": [],
   "source": [
    "doctor_image = pygame.transform.scale((pygame.image.load(r'Image\\Doctor.jpg').convert_alpha()),(50,50))\n",
    "corona_image = pygame.transform.scale((pygame.image.load(r'Image\\Corona.jpg').convert_alpha()),(70,50))"
   ]
  },
  {
   "cell_type": "markdown",
   "metadata": {},
   "source": [
    "### Doctor start"
   ]
  },
  {
   "cell_type": "code",
   "execution_count": 6,
   "metadata": {},
   "outputs": [],
   "source": [
    "doc_x = 500\n",
    "doc_y = 300"
   ]
  },
  {
   "cell_type": "markdown",
   "metadata": {},
   "source": [
    "### Corona start"
   ]
  },
  {
   "cell_type": "code",
   "execution_count": 7,
   "metadata": {},
   "outputs": [],
   "source": [
    "corona_x = random.randint(1, 500)\n",
    "corona_y = random.randint(1, 300)"
   ]
  },
  {
   "cell_type": "markdown",
   "metadata": {},
   "source": [
    "### Init the score"
   ]
  },
  {
   "cell_type": "code",
   "execution_count": 8,
   "metadata": {},
   "outputs": [],
   "source": [
    "score = 0"
   ]
  },
  {
   "cell_type": "markdown",
   "metadata": {},
   "source": [
    "### Setup the font to text"
   ]
  },
  {
   "cell_type": "code",
   "execution_count": 9,
   "metadata": {},
   "outputs": [],
   "source": [
    "myfont = pygame.font.SysFont('Comic Sans MS', 30)\n",
    "textsurface = myfont.render('Score : '+str(score), False, (0, 0, 0))"
   ]
  },
  {
   "cell_type": "markdown",
   "metadata": {},
   "source": [
    "### Colors"
   ]
  },
  {
   "cell_type": "code",
   "execution_count": 10,
   "metadata": {},
   "outputs": [],
   "source": [
    "screen_colors=[(15, 192, 252),(123, 29, 175),(255, 47, 185),(212, 255, 71)]"
   ]
  },
  {
   "cell_type": "markdown",
   "metadata": {},
   "source": [
    "### Start the game clock for timer to auto refresh"
   ]
  },
  {
   "cell_type": "code",
   "execution_count": 11,
   "metadata": {},
   "outputs": [],
   "source": [
    "clock = pygame.time.Clock()"
   ]
  },
  {
   "cell_type": "markdown",
   "metadata": {},
   "source": [
    "### Game loop"
   ]
  },
  {
   "cell_type": "code",
   "execution_count": 12,
   "metadata": {},
   "outputs": [
    {
     "ename": "SystemExit",
     "evalue": "",
     "output_type": "error",
     "traceback": [
      "An exception has occurred, use %tb to see the full traceback.\n",
      "\u001b[1;31mSystemExit\u001b[0m\n"
     ]
    },
    {
     "name": "stderr",
     "output_type": "stream",
     "text": [
      "C:\\Users\\shank\\AppData\\Roaming\\Python\\Python37\\site-packages\\IPython\\core\\interactiveshell.py:3351: UserWarning: To exit: use 'exit', 'quit', or Ctrl-D.\n",
      "  warn(\"To exit: use 'exit', 'quit', or Ctrl-D.\", stacklevel=1)\n"
     ]
    }
   ],
   "source": [
    "while True:\n",
    "\tscreen_color = screen_colors[random.randint(0,3)]\n",
    "\tfor event in pygame.event.get(): # Event loop....\n",
    "\n",
    "\t\t# Quit if closed....\n",
    "\t\tif event.type == pygame.QUIT: \n",
    "\t\t\tpygame.quit()\n",
    "\t\t\tsys.exit()\n",
    "\n",
    "\t\t# Quit if q pressed....\n",
    "\t\tif event.type == pygame.KEYDOWN: \n",
    "\t\t\tif event.key == pygame.K_q:\n",
    "\t\t\t\tpygame.quit()\n",
    "\t\t\t\tsys.exit()\n",
    "\t\t\n",
    "\t\t# Quit if out of boundary....\n",
    "\t\tif doc_x > 1000 or doc_y > 600 or doc_x < 0 or doc_y < 0: \n",
    "\t\t\tpygame.quit()\n",
    "\t\t\tsys.exit()\n",
    "\t\n",
    "\t\t# If Doctor kill the corona....\n",
    "\t\tif doc_x in range(corona_x-50, corona_x+50) and doc_y in range(corona_y-50, corona_y+50):\n",
    "\t\t\tcorona_x = random.randint(1, 500)\n",
    "\t\t\tcorona_y = random.randint(1, 300)\n",
    "\t\t\tscore += 1\n",
    "\n",
    "\t# Continuous pressing of keys....\n",
    "\tpressed = pygame.key.get_pressed()\n",
    "\tif pressed[pygame.K_UP]: doc_y -= 5\n",
    "\tif pressed[pygame.K_DOWN]: doc_y += 5\n",
    "\tif pressed[pygame.K_LEFT]: doc_x -= 5\n",
    "\tif pressed[pygame.K_RIGHT]: doc_x += 5\t\n",
    "\n",
    "\t# Refreshing the Screen for every timer....\n",
    "\tscreen.fill(screen_color)\n",
    "\t'''Create the Corona'''\n",
    "\twindow.blit(corona_image,(corona_x, corona_y))\n",
    "\t'''Create the Doctor'''\n",
    "\twindow.blit(doctor_image,(doc_x, doc_y))\n",
    "\t'''Display the Score'''\n",
    "\ttextsurface = myfont.render('Score : '+str(score), False, (0, 0, 0))\n",
    "\tscreen.blit(textsurface,(0,0))\n",
    "\t'''Update the screen'''\n",
    "\tpygame.display.update()\n",
    "\tclock.tick(50+score*5)"
   ]
  }
 ],
 "metadata": {
  "kernelspec": {
   "display_name": "Python 3",
   "language": "python",
   "name": "python3"
  },
  "language_info": {
   "codemirror_mode": {
    "name": "ipython",
    "version": 3
   },
   "file_extension": ".py",
   "mimetype": "text/x-python",
   "name": "python",
   "nbconvert_exporter": "python",
   "pygments_lexer": "ipython3",
   "version": "3.7.6"
  }
 },
 "nbformat": 4,
 "nbformat_minor": 4
}
