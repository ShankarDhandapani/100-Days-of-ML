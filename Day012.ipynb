{
 "cells": [
  {
   "cell_type": "markdown",
   "metadata": {},
   "source": [
    "#  Threading Module"
   ]
  },
  {
   "cell_type": "code",
   "execution_count": 1,
   "metadata": {},
   "outputs": [],
   "source": [
    "import threading\n",
    "from queue import Queue\n",
    "import time"
   ]
  },
  {
   "cell_type": "code",
   "execution_count": 2,
   "metadata": {},
   "outputs": [],
   "source": [
    "print_Lock = threading.Lock()"
   ]
  },
  {
   "cell_type": "code",
   "execution_count": 3,
   "metadata": {},
   "outputs": [],
   "source": [
    "def exampleJob(worker):\n",
    "    time.sleep(0.5)\n",
    "    \n",
    "    with print_Lock:\n",
    "        print(threading.current_thread().name, worker)"
   ]
  },
  {
   "cell_type": "code",
   "execution_count": 4,
   "metadata": {},
   "outputs": [],
   "source": [
    "def threader():\n",
    "    while True:\n",
    "        worker = q.get()\n",
    "        exampleJob(worker)\n",
    "        q.task_done()"
   ]
  },
  {
   "cell_type": "code",
   "execution_count": 5,
   "metadata": {},
   "outputs": [],
   "source": [
    "q = Queue()\n",
    "\n",
    "for x in range(10):\n",
    "    t = threading.Thread(target = threader)\n",
    "    t.daemon = True\n",
    "    t.start()"
   ]
  },
  {
   "cell_type": "code",
   "execution_count": 6,
   "metadata": {},
   "outputs": [],
   "source": [
    "start = time.time()"
   ]
  },
  {
   "cell_type": "code",
   "execution_count": 7,
   "metadata": {},
   "outputs": [
    {
     "name": "stdout",
     "output_type": "stream",
     "text": [
      "Thread-10 8\n",
      "Thread-11 6\n",
      "Thread-8 9\n",
      "Thread-12 1\n",
      "Thread-15 4\n",
      "Thread-6 5\n",
      "Thread-7 0\n",
      "Thread-14 3\n",
      "Thread-13 2\n",
      "Thread-9 7\n"
     ]
    }
   ],
   "source": [
    "for worker in range(20):\n",
    "    q.put(worker)"
   ]
  },
  {
   "cell_type": "code",
   "execution_count": 8,
   "metadata": {},
   "outputs": [
    {
     "name": "stdout",
     "output_type": "stream",
     "text": [
      "Thread-10 10\n",
      "Thread-11 11\n",
      "Thread-8 12\n",
      "Thread-12 13\n",
      "Thread-15 14\n",
      "Thread-6 15\n",
      "Thread-7 16\n",
      "Thread-14 17\n",
      "Thread-13 18\n",
      "Thread-9 19\n",
      "Entire job took: 2.009511709213257\n"
     ]
    }
   ],
   "source": [
    "q.join()\n",
    "\n",
    "print(\"Entire job took:\", time.time() - start)"
   ]
  },
  {
   "cell_type": "markdown",
   "metadata": {},
   "source": [
    "# Cx freeze python to exe"
   ]
  },
  {
   "cell_type": "code",
   "execution_count": 9,
   "metadata": {},
   "outputs": [],
   "source": [
    "import urllib.request\n",
    "import urllib.parse\n",
    "import re"
   ]
  },
  {
   "cell_type": "code",
   "execution_count": 10,
   "metadata": {},
   "outputs": [],
   "source": [
    "url = \"http://pythonprogramming.net\"\n",
    "Values = {'s':'basics', 'submit':'search'}\n",
    "\n",
    "data = urllib.parse.urlencode(Values)\n",
    "data = data.encode('utf-8')\n",
    "req = urllib.request.Request(url, data)\n",
    "resp = urllib.request.urlopen(req)\n",
    "respData = resp.read()"
   ]
  },
  {
   "cell_type": "code",
   "execution_count": 11,
   "metadata": {},
   "outputs": [],
   "source": [
    "paragraphs = re.findall(r'<p>(.*?)</p>',str(respData))"
   ]
  },
  {
   "cell_type": "code",
   "execution_count": 12,
   "metadata": {},
   "outputs": [
    {
     "name": "stdout",
     "output_type": "stream",
     "text": [
      "Employ both supervised and unsupervised machine learning, to make predictions or to understand data.\n",
      "Learn how to use Python with Pandas, Matplotlib, and other modules to gather insights from and about your data.\n",
      "Learn the basics and concepts of working with quantum computers and qubits through practical applications and the Qiskit package.\n",
      "Create your own games with Python\\'s PyGame library, or check out the multi-platform Kivy.\n",
      "Learn the basic and intermediate Python fundamentals.\n",
      "Just getting started?\n",
      "Not a problem, learn the basics of programming with Python 3 here!\n",
      "How to develop websites with either the Flask or Django frameworks for Python.\n",
      "Creating various software bots, like bots in games, in chats, and to interact with the web. Not to be confused with robotics!\n",
      "Control hardware with Python programming and the Raspberry Pi.\n",
      "Create software with a user interface using Tkinter, PyQt, or Kivy.\n",
      "Curious about more than just Python? While not covered in nearly as much depth, here are some tutorials in other languages:\n",
      "Go is a programming language aimed at being simple, easy to work with, and capable of high performance.\n",
      "Press any key to exit!\n"
     ]
    },
    {
     "data": {
      "text/plain": [
       "''"
      ]
     },
     "execution_count": 12,
     "metadata": {},
     "output_type": "execute_result"
    }
   ],
   "source": [
    "for eachP in paragraphs:\n",
    "    print(eachP)\n",
    "    \n",
    "input('Press any key to exit!')"
   ]
  },
  {
   "cell_type": "markdown",
   "metadata": {},
   "source": [
    "### Now create new python file as setup.py with the below mentioned code in the same directory"
   ]
  },
  {
   "cell_type": "code",
   "execution_count": null,
   "metadata": {},
   "outputs": [],
   "source": [
    "from cx_Freeze import setup, Executable"
   ]
  },
  {
   "cell_type": "code",
   "execution_count": null,
   "metadata": {},
   "outputs": [],
   "source": [
    "setup(name = 'urlParse',\n",
    "      version = '0.1',\n",
    "      description = 'Parse stuff',\n",
    "      executables = [Executable(\"sample.py\")])"
   ]
  },
  {
   "cell_type": "markdown",
   "metadata": {},
   "source": [
    "### Then open cmd and go to the directory where both the python files are saved and then type \"python setup.py build\""
   ]
  },
  {
   "cell_type": "markdown",
   "metadata": {},
   "source": [
    "# ftplib FTP transfers Python"
   ]
  },
  {
   "cell_type": "code",
   "execution_count": null,
   "metadata": {},
   "outputs": [],
   "source": [
    "from ftplib import FTP"
   ]
  },
  {
   "cell_type": "code",
   "execution_count": null,
   "metadata": {},
   "outputs": [],
   "source": [
    "ftp = FTP('ftp://speedtest.tele2.net')\n",
    "# ftp.login(user= \"username\", passwd = \"password\")\n",
    "ftp.cwd(\"/\")"
   ]
  },
  {
   "cell_type": "code",
   "execution_count": null,
   "metadata": {},
   "outputs": [],
   "source": [
    "def grabFile():\n",
    "    fileName = \"Filename.txt\"\n",
    "    localfile = open(filename, 'wb')\n",
    "    ftp.retrbinary('RETR ' + filename, localfile.write, 1024)\n",
    "    fttp.quit()\n",
    "    localfile.close()"
   ]
  },
  {
   "cell_type": "code",
   "execution_count": null,
   "metadata": {},
   "outputs": [],
   "source": [
    "def placeFile():\n",
    "    fileName = 'fileName.txt'\n",
    "    ftp.storebinay('STOR ' + filename, open(filename, 'rb'))\n",
    "    ftp.quit()"
   ]
  }
 ],
 "metadata": {
  "kernelspec": {
   "display_name": "Python 3",
   "language": "python",
   "name": "python3"
  },
  "language_info": {
   "codemirror_mode": {
    "name": "ipython",
    "version": 3
   },
   "file_extension": ".py",
   "mimetype": "text/x-python",
   "name": "python",
   "nbconvert_exporter": "python",
   "pygments_lexer": "ipython3",
   "version": "3.8.5"
  }
 },
 "nbformat": 4,
 "nbformat_minor": 4
}
